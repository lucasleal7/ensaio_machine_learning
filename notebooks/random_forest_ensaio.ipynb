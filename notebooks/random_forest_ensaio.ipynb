{
 "cells": [
  {
   "cell_type": "markdown",
   "metadata": {},
   "source": [
    "# 0.0 Imports"
   ]
  },
  {
   "cell_type": "code",
   "execution_count": 1,
   "metadata": {},
   "outputs": [],
   "source": [
    "# Importações padrão\n",
    "import pandas as pd\n",
    "\n",
    "# Bibliotecas de terceiros\n",
    "from sklearn                    import ensemble as en\n",
    "from sklearn                    import metrics as mt\n",
    "from matplotlib                 import pyplot as plt\n",
    "from sklearn.model_selection    import learning_curve\n",
    "from sklearn.model_selection    import GridSearchCV\n",
    "\n",
    "# Módulos locais\n",
    "from funcoes                    import load_and_return_all_columns\n"
   ]
  },
  {
   "cell_type": "markdown",
   "metadata": {},
   "source": [
    "# 1.0 Loading Data "
   ]
  },
  {
   "cell_type": "code",
   "execution_count": 17,
   "metadata": {},
   "outputs": [],
   "source": [
    "X_train=load_and_return_all_columns(r'C:\\Users\\lucas\\repos\\machine_learing\\X_training.csv')\n",
    "y_train=load_and_return_all_columns(r'C:\\Users\\lucas\\repos\\machine_learing\\y_training.csv')\n",
    "\n",
    "X_val=load_and_return_all_columns(r'C:\\Users\\lucas\\repos\\machine_learing\\X_validation.csv')\n",
    "y_val=load_and_return_all_columns(r'C:\\Users\\lucas\\repos\\machine_learing\\y_validation.csv')\n",
    "\n",
    "X_test=load_and_return_all_columns(r'C:\\Users\\lucas\\repos\\machine_learing\\X_test.csv')\n",
    "y_test=load_and_return_all_columns(r'C:\\Users\\lucas\\repos\\machine_learing\\y_test.csv')"
   ]
  },
  {
   "cell_type": "markdown",
   "metadata": {},
   "source": [
    "# 2.0 Encontrando n_estimator"
   ]
  },
  {
   "cell_type": "code",
   "execution_count": 18,
   "metadata": {},
   "outputs": [],
   "source": [
    "#from sklearn.model_selection import cross_val_score\n",
    "\n",
    "\n",
    "#n_estimators_options = [50, 100, 150, 200]\n",
    "#mean_scores = []\n",
    "\n",
    "#for n in n_estimators_options:\n",
    "    #model = en.RandomForestClassifier(n_estimators=n)\n",
    "    #scores = cross_val_score(model, X_train, y_train, cv=2)\n",
    "    #mean_scores.append(scores.mean())\n",
    "\n",
    "\n",
    "\n",
    "#plt.plot(n_estimators_options, mean_scores)\n",
    "#plt.xlabel('n_estimators')\n",
    "#plt.ylabel('Validation Accuracy')\n",
    "#plt.title('Random Forest n_estimators Performance')\n",
    "#plt.show()"
   ]
  },
  {
   "cell_type": "code",
   "execution_count": 19,
   "metadata": {},
   "outputs": [],
   "source": [
    "#train_sizes, train_scores, test_scores = learning_curve(en.RandomForestClassifier(), X_train, y_train, train_sizes=n_estimators_options, cv=2)\n",
    "\n",
    "#train_mean = train_scores.mean(axis=1)\n",
    "#test_mean = test_scores.mean(axis=1)\n",
    "\n",
    "#plt.plot(n_estimators_options, train_mean, label='Training Accuracy')\n",
    "#plt.plot(n_estimators_options, test_mean, label='Validation Accuracy')\n",
    "#plt.xlabel('Number of Trees')\n",
    "#plt.ylabel('Accuracy')\n",
    "#plt.legend()\n",
    "#plt.title('Learning Curve for Random Forest')\n",
    "#plt.show()"
   ]
  },
  {
   "cell_type": "code",
   "execution_count": 20,
   "metadata": {},
   "outputs": [],
   "source": [
    "#param_grid = {'n_estimators': [50, 100, 150, 200]}\n",
    "#grid_search = GridSearchCV(estimator=en.RandomForestClassifier(), param_grid=param_grid, cv=2, scoring='accuracy')\n",
    "#grid_search.fit(X_train, y_train)\n",
    "\n",
    "# Melhor número de n_estimators\n",
    "#print(\"Best n_estimators:\", grid_search.best_params_['n_estimators'])\n",
    "#print(\"Best cross-validated score:\", grid_search.best_score_)"
   ]
  },
  {
   "cell_type": "markdown",
   "metadata": {},
   "source": [
    "# 3.0 Encontrando Max_depth"
   ]
  },
  {
   "cell_type": "code",
   "execution_count": 21,
   "metadata": {},
   "outputs": [],
   "source": [
    "#model = en.RandomForestClassifier(n_estimators=145)\n",
    "\n",
    "# Definir os valores de max_depth a serem testados\n",
    "#param_grid = {'max_depth': range(1, 15)}\n",
    "\n",
    "# Configurar a busca em grade com validação cruzada\n",
    "#grid_search = GridSearchCV(model, param_grid, cv=3, scoring='accuracy')\n",
    "\n",
    "# Executar a busca\n",
    "#grid_search.fit(X_train, y_train)\n",
    "\n",
    "# Obter os melhores parâmetros\n",
    "#best_params = grid_search.best_params_\n",
    "#best_score = grid_search.best_score_\n",
    "\n",
    "#print(\"Melhor valor de max_depth:\", best_params['max_depth'])\n",
    "#print(\"Acuracia:\", best_score);\n",
    "\n",
    "#Melhor valor de max_depth: 14\n",
    "#Melhor score de validação cruzada: 0.9598979409123348"
   ]
  },
  {
   "cell_type": "markdown",
   "metadata": {},
   "source": [
    "# 4.0 Model Training "
   ]
  },
  {
   "cell_type": "code",
   "execution_count": 22,
   "metadata": {},
   "outputs": [
    {
     "name": "stderr",
     "output_type": "stream",
     "text": [
      "c:\\Users\\55149\\OneDrive - Fatec Centro Paula Souza\\Documents\\repos\\fundamentos_ml\\ensaio\\env\\Lib\\site-packages\\sklearn\\base.py:1389: DataConversionWarning: A column-vector y was passed when a 1d array was expected. Please change the shape of y to (n_samples,), for example using ravel().\n",
      "  return fit_method(estimator, *args, **kwargs)\n"
     ]
    }
   ],
   "source": [
    "model=en.RandomForestClassifier(n_estimators=145,max_depth=14)\n",
    "\n",
    "model.fit(X_train,y_train)\n",
    "\n",
    "yhat_train=model.predict(X_train)"
   ]
  },
  {
   "cell_type": "code",
   "execution_count": 28,
   "metadata": {},
   "outputs": [
    {
     "data": {
      "text/plain": [
       "97.64324622491898"
      ]
     },
     "execution_count": 28,
     "metadata": {},
     "output_type": "execute_result"
    }
   ],
   "source": [
    "mt.accuracy_score(y_train,yhat_train)*100"
   ]
  },
  {
   "cell_type": "code",
   "execution_count": 30,
   "metadata": {},
   "outputs": [
    {
     "data": {
      "text/plain": [
       "98.49864551715135"
      ]
     },
     "execution_count": 30,
     "metadata": {},
     "output_type": "execute_result"
    }
   ],
   "source": [
    "mt.precision_score(y_train,yhat_train)*100"
   ]
  },
  {
   "cell_type": "code",
   "execution_count": 31,
   "metadata": {},
   "outputs": [
    {
     "data": {
      "text/plain": [
       "96.02583683339697"
      ]
     },
     "execution_count": 31,
     "metadata": {},
     "output_type": "execute_result"
    }
   ],
   "source": [
    "mt.recall_score(y_train,yhat_train)*100\n"
   ]
  },
  {
   "cell_type": "code",
   "execution_count": 33,
   "metadata": {},
   "outputs": [
    {
     "data": {
      "text/plain": [
       "97.24652391770185"
      ]
     },
     "execution_count": 33,
     "metadata": {},
     "output_type": "execute_result"
    }
   ],
   "source": [
    "mt.f1_score(y_train,yhat_train)*100"
   ]
  },
  {
   "cell_type": "markdown",
   "metadata": {},
   "source": [
    "# 5.0 Validation"
   ]
  },
  {
   "cell_type": "code",
   "execution_count": 35,
   "metadata": {},
   "outputs": [],
   "source": [
    "yhat_val=model.predict(X_val)"
   ]
  },
  {
   "cell_type": "code",
   "execution_count": 37,
   "metadata": {},
   "outputs": [
    {
     "data": {
      "text/plain": [
       "96.16783036777245"
      ]
     },
     "execution_count": 37,
     "metadata": {},
     "output_type": "execute_result"
    }
   ],
   "source": [
    "mt.accuracy_score(y_val,yhat_val)*100"
   ]
  },
  {
   "cell_type": "code",
   "execution_count": 38,
   "metadata": {},
   "outputs": [
    {
     "data": {
      "text/plain": [
       "96.92707537073842"
      ]
     },
     "execution_count": 38,
     "metadata": {},
     "output_type": "execute_result"
    }
   ],
   "source": [
    "mt.precision_score(y_val,yhat_val)*100"
   ]
  },
  {
   "cell_type": "code",
   "execution_count": 39,
   "metadata": {},
   "outputs": [
    {
     "data": {
      "text/plain": [
       "94.14210409087535"
      ]
     },
     "execution_count": 39,
     "metadata": {},
     "output_type": "execute_result"
    }
   ],
   "source": [
    "mt.recall_score(y_val,yhat_val)*100"
   ]
  },
  {
   "cell_type": "code",
   "execution_count": 40,
   "metadata": {},
   "outputs": [
    {
     "data": {
      "text/plain": [
       "95.51429324695869"
      ]
     },
     "execution_count": 40,
     "metadata": {},
     "output_type": "execute_result"
    }
   ],
   "source": [
    "mt.f1_score(y_val,yhat_val)*100"
   ]
  },
  {
   "cell_type": "markdown",
   "metadata": {},
   "source": [
    "# 6.0 Test"
   ]
  },
  {
   "cell_type": "code",
   "execution_count": 42,
   "metadata": {},
   "outputs": [],
   "source": [
    "yhat_test=model.predict(X_test)"
   ]
  },
  {
   "cell_type": "code",
   "execution_count": 44,
   "metadata": {},
   "outputs": [
    {
     "data": {
      "text/plain": [
       "96.2113312478276"
      ]
     },
     "execution_count": 44,
     "metadata": {},
     "output_type": "execute_result"
    }
   ],
   "source": [
    "mt.accuracy_score(y_test,yhat_test)*100"
   ]
  },
  {
   "cell_type": "code",
   "execution_count": 45,
   "metadata": {},
   "outputs": [
    {
     "data": {
      "text/plain": [
       "96.76634840569267"
      ]
     },
     "execution_count": 45,
     "metadata": {},
     "output_type": "execute_result"
    }
   ],
   "source": [
    "mt.precision_score(y_test,yhat_test)*100"
   ]
  },
  {
   "cell_type": "code",
   "execution_count": 46,
   "metadata": {},
   "outputs": [
    {
     "data": {
      "text/plain": [
       "94.52705675318963"
      ]
     },
     "execution_count": 46,
     "metadata": {},
     "output_type": "execute_result"
    }
   ],
   "source": [
    "mt.recall_score(y_test,yhat_test)*100"
   ]
  },
  {
   "cell_type": "code",
   "execution_count": 47,
   "metadata": {},
   "outputs": [
    {
     "data": {
      "text/plain": [
       "95.63359594071305"
      ]
     },
     "execution_count": 47,
     "metadata": {},
     "output_type": "execute_result"
    }
   ],
   "source": [
    "mt.f1_score(y_test,yhat_test)*100"
   ]
  }
 ],
 "metadata": {
  "kernelspec": {
   "display_name": "env",
   "language": "python",
   "name": "python3"
  },
  "language_info": {
   "codemirror_mode": {
    "name": "ipython",
    "version": 3
   },
   "file_extension": ".py",
   "mimetype": "text/x-python",
   "name": "python",
   "nbconvert_exporter": "python",
   "pygments_lexer": "ipython3",
   "version": "3.12.8"
  }
 },
 "nbformat": 4,
 "nbformat_minor": 2
}
